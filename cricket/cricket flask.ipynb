{
 "cells": [
  {
   "cell_type": "code",
   "execution_count": null,
   "id": "ff09e82d",
   "metadata": {},
   "outputs": [],
   "source": []
  },
  {
   "cell_type": "code",
   "execution_count": null,
   "id": "c5f1b567",
   "metadata": {
    "scrolled": true
   },
   "outputs": [
    {
     "name": "stdout",
     "output_type": "stream",
     "text": [
      " * Serving Flask app \"__main__\" (lazy loading)\n",
      " * Environment: production\n",
      "\u001b[31m   WARNING: This is a development server. Do not use it in a production deployment.\u001b[0m\n",
      "\u001b[2m   Use a production WSGI server instead.\u001b[0m\n",
      " * Debug mode: off\n"
     ]
    },
    {
     "name": "stderr",
     "output_type": "stream",
     "text": [
      " * Running on http://localhost:4000/ (Press CTRL+C to quit)\n"
     ]
    },
    {
     "name": "stdout",
     "output_type": "stream",
     "text": [
      "your target is 28\n",
      "enter a number (1 to 6) : 4\n",
      "enter a number (1 to 6): 4\n",
      "enter a number (1 to 6): 4\n",
      "enter a number (1 to 6): 4\n",
      "enter a number (1 to 6): 6\n",
      "enter a number (1 to 6): 6\n"
     ]
    },
    {
     "name": "stderr",
     "output_type": "stream",
     "text": [
      "[2022-06-11 12:17:58,648] ERROR in app: Exception on / [GET]\n",
      "Traceback (most recent call last):\n",
      "  File \"C:\\Users\\Dell\\anaconda3\\lib\\site-packages\\flask\\app.py\", line 2447, in wsgi_app\n",
      "    response = self.full_dispatch_request()\n",
      "  File \"C:\\Users\\Dell\\anaconda3\\lib\\site-packages\\flask\\app.py\", line 1953, in full_dispatch_request\n",
      "    return self.finalize_request(rv)\n",
      "  File \"C:\\Users\\Dell\\anaconda3\\lib\\site-packages\\flask\\app.py\", line 1968, in finalize_request\n",
      "    response = self.make_response(rv)\n",
      "  File \"C:\\Users\\Dell\\anaconda3\\lib\\site-packages\\flask\\app.py\", line 2097, in make_response\n",
      "    raise TypeError(\n",
      "TypeError: The view function did not return a valid response. The function either returned None or ended without a return statement.\n",
      "127.0.0.1 - - [11/Jun/2022 12:17:58] \"GET / HTTP/1.1\" 500 -\n"
     ]
    },
    {
     "name": "stdout",
     "output_type": "stream",
     "text": [
      "you loose by 4 runs\n",
      "your score is 24 \n"
     ]
    },
    {
     "name": "stderr",
     "output_type": "stream",
     "text": [
      "127.0.0.1 - - [11/Jun/2022 12:17:59] \"GET /favicon.ico HTTP/1.1\" 404 -\n"
     ]
    }
   ],
   "source": [
    "from werkzeug.wrappers import Request, Response\n",
    "from flask import Flask\n",
    "\n",
    "app = Flask(__name__)\n",
    "\n",
    "@app.route(\"/\")\n",
    "def hello():\n",
    "    from random import randint\n",
    "    number_36 = randint(1,35)\n",
    "    print(f'your target is {number_36}')\n",
    "\n",
    "\n",
    "    ball_1 = int(input('enter a number (1 to 6) : '))\n",
    "    ball_2 = int(input('enter a number (1 to 6): '))\n",
    "    ball_3 = int(input('enter a number (1 to 6): '))\n",
    "    ball_4 = int(input('enter a number (1 to 6): '))\n",
    "    ball_5 = int(input('enter a number (1 to 6): '))\n",
    "    ball_6 = int(input('enter a number (1 to 6): '))\n",
    "    number_1 = randint(1,6)\n",
    "    number_2 = randint(1,6)\n",
    "    number_3 = randint(1,6)\n",
    "    number_4 = randint(1,6)\n",
    "    number_5 = randint(1,6)\n",
    "    number_6 = randint(1,6)\n",
    "\n",
    "\n",
    "\n",
    "\n",
    "    if ball_1 == number_1 :\n",
    "        ball_1 = 0\n",
    "    elif ball_2 == number_2:\n",
    "        ball_2 = 0\n",
    "    elif ball_3 == number_3:\n",
    "        ball_3 = 0\n",
    "    elif ball_4 == number_4:\n",
    "        ball_4 = 0\n",
    "    elif ball_5 == number_5:\n",
    "        ball_5 = 0\n",
    "    elif ball_6 == number_6:\n",
    "        ball_6 == 0\n",
    "    \n",
    "    score = ball_1 + ball_2 + ball_3 + ball_4 + ball_5 + ball_6\n",
    "    if score > number_36:\n",
    "        print(f'you win by {score - number_36} runs')\n",
    "        print('winning 🥇 ')\n",
    "    else:\n",
    "        print(f'you loose by {number_36 - score} runs')\n",
    "    \n",
    "    \n",
    "    print(f'your score is {score} ')\n",
    "        \n",
    "if __name__ == '__main__':\n",
    "    app.run(host=\"localhost\", port=4000)"
   ]
  },
  {
   "cell_type": "code",
   "execution_count": null,
   "id": "a15023c0",
   "metadata": {},
   "outputs": [],
   "source": []
  },
  {
   "cell_type": "code",
   "execution_count": null,
   "id": "365231ee",
   "metadata": {},
   "outputs": [],
   "source": []
  }
 ],
 "metadata": {
  "kernelspec": {
   "display_name": "Python 3 (ipykernel)",
   "language": "python",
   "name": "python3"
  },
  "language_info": {
   "codemirror_mode": {
    "name": "ipython",
    "version": 3
   },
   "file_extension": ".py",
   "mimetype": "text/x-python",
   "name": "python",
   "nbconvert_exporter": "python",
   "pygments_lexer": "ipython3",
   "version": "3.9.7"
  }
 },
 "nbformat": 4,
 "nbformat_minor": 5
}
