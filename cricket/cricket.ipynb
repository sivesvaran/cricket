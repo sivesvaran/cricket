{
 "cells": [
  {
   "cell_type": "code",
   "execution_count": null,
   "id": "223d449b",
   "metadata": {
    "scrolled": true
   },
   "outputs": [
    {
     "name": "stdout",
     "output_type": "stream",
     "text": [
      "your target is 27\n"
     ]
    }
   ],
   "source": [
    "def run():\n",
    "    from random import randint\n",
    "    number_36 = randint(1,35)\n",
    "    print(f'your target is {number_36}')\n",
    "\n",
    "\n",
    "    ball_1 = int(input('enter a number (1 to 6) : '))\n",
    "    ball_2 = int(input('enter a number (1 to 6): '))\n",
    "    ball_3 = int(input('enter a number (1 to 6): '))\n",
    "    ball_4 = int(input('enter a number (1 to 6): '))\n",
    "    ball_5 = int(input('enter a number (1 to 6): '))\n",
    "    ball_6 = int(input('enter a number (1 to 6): '))\n",
    "    number_1 = randint(1,6)\n",
    "    number_2 = randint(1,6)\n",
    "    number_3 = randint(1,6)\n",
    "    number_4 = randint(1,6)\n",
    "    number_5 = randint(1,6)\n",
    "    number_6 = randint(1,6)\n",
    "\n",
    "\n",
    "\n",
    "\n",
    "    if ball_1 == number_1 :\n",
    "        ball_1 = 0\n",
    "    elif ball_2 == number_2:\n",
    "        ball_2 = 0\n",
    "    elif ball_3 == number_3:\n",
    "        ball_3 = 0\n",
    "    elif ball_4 == number_4:\n",
    "        ball_4 = 0\n",
    "    elif ball_5 == number_5:\n",
    "        ball_5 = 0\n",
    "    elif ball_6 == number_6:\n",
    "        ball_6 == 0\n",
    "    \n",
    "    score = ball_1 + ball_2 + ball_3 + ball_4 + ball_5 + ball_6\n",
    "    if score > number_36:\n",
    "        print(f'you win by {score - number_36} runs')\n",
    "        print('winning 🥇 ')\n",
    "    elif score == number_36:\n",
    "            print('match draw')\n",
    "    else:\n",
    "        print(f'you loose by {number_36 - score} runs ')\n",
    "    \n",
    "    \n",
    "    print(f'your score is {score} ')\n",
    "\n",
    "run()\n",
    "\n",
    "\n",
    "  \n",
    "    \n",
    "\n",
    "    \n",
    "\n"
   ]
  },
  {
   "cell_type": "markdown",
   "id": "b0673806",
   "metadata": {},
   "source": [
    "\n"
   ]
  },
  {
   "cell_type": "code",
   "execution_count": 1,
   "id": "5e3b852e",
   "metadata": {},
   "outputs": [
    {
     "data": {
      "text/plain": [
       "'C:\\\\Users\\\\Dell\\\\cricket'"
      ]
     },
     "execution_count": 1,
     "metadata": {},
     "output_type": "execute_result"
    }
   ],
   "source": [
    "pwd"
   ]
  },
  {
   "cell_type": "code",
   "execution_count": null,
   "id": "cb2218d5",
   "metadata": {},
   "outputs": [],
   "source": []
  }
 ],
 "metadata": {
  "kernelspec": {
   "display_name": "Python 3 (ipykernel)",
   "language": "python",
   "name": "python3"
  },
  "language_info": {
   "codemirror_mode": {
    "name": "ipython",
    "version": 3
   },
   "file_extension": ".py",
   "mimetype": "text/x-python",
   "name": "python",
   "nbconvert_exporter": "python",
   "pygments_lexer": "ipython3",
   "version": "3.9.7"
  }
 },
 "nbformat": 4,
 "nbformat_minor": 5
}
